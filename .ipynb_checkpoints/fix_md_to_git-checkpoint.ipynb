{
 "cells": [
  {
   "cell_type": "markdown",
   "id": "7cdd12b3-84d0-42bd-8b96-d62a9da52308",
   "metadata": {},
   "source": [
    "#### Unfixed bugs:  \n",
    "- If i delete file, git won't commit that. File in proxy directory will be untouched  \n",
    "- Tables are freaken\n",
    "- It's import only md files. Not other"
   ]
  },
  {
   "cell_type": "code",
   "execution_count": 1,
   "id": "86f1d3a2-5ff3-44f8-ae70-b8eee778f8f8",
   "metadata": {},
   "outputs": [],
   "source": [
    "import os, re, distutils.dir_util"
   ]
  },
  {
   "cell_type": "code",
   "execution_count": 2,
   "id": "a4f5cc54-99a2-46fe-9813-d37835858c06",
   "metadata": {},
   "outputs": [],
   "source": [
    "def replace_carriages(filename, path):\n",
    "    with open(os.path.join(path, filename), 'r', encoding='utf-8') as f:\n",
    "        text = f.read()\n",
    "        text = text.replace('  \\n', '\\n')\n",
    "        text = text.replace('\\n', '  \\n')\n",
    "        re.search(r'!\\[\\[\\w.+\\]\\]', text)\n",
    "        f.close()\n",
    "    with open(os.path.join(path, filename), 'w', encoding='utf-8') as f:\n",
    "        f.write(text)"
   ]
  },
  {
   "cell_type": "code",
   "execution_count": 3,
   "id": "3e802bfa-f5e9-417c-99b2-403a96354f6d",
   "metadata": {},
   "outputs": [],
   "source": [
    "def move_fixed_files(filename, path, gitpath):\n",
    "    with open(os.path.join(path, filename), 'r', encoding='utf-8') as f:\n",
    "        text = f.read() \n",
    "        pattern = r'!\\[\\[\\w.+\\]\\]'\n",
    "        counter = 0\n",
    "        while True:\n",
    "            match = re.search(pattern, text)\n",
    "            if not match:\n",
    "                break\n",
    "            span = match.span()\n",
    "            img = text[span[0]:span[1]][3:-2]\n",
    "            if '|' in img:\n",
    "                name, size = img.split('|')\n",
    "                raw_name = name\n",
    "                name = name.replace(' ', '%20')\n",
    "                fixed_path = path.replace(' ', '%20')\n",
    "                new_img = f'![{raw_name}|{size}](https://github.com/PolkaDott/Data-Science-Summaries/blob/main/{fixed_path}/attachments/{name}?raw=true)'\n",
    "            else:\n",
    "                name = img\n",
    "                fixed_name = name.replace(' ', '%20')\n",
    "                fixed_path = path.replace(' ', '%20')\n",
    "                new_img = f'![{name}](https://github.com/PolkaDott/Data-Science-Summaries/blob/main/{fixed_path}/attachments/{fixed_name}?raw=true)'\n",
    "            text = re.sub(pattern, new_img, text, count=1)\n",
    "    if not os.path.isdir(os.path.join(gitpath, path)):\n",
    "        os.makedirs(os.path.join(gitpath, path))\n",
    "    with open(os.path.join(gitpath, path, filename), 'w', encoding='utf-8') as f:\n",
    "        f.write(text)"
   ]
  },
  {
   "cell_type": "code",
   "execution_count": 4,
   "id": "e9b91bb0-377a-49af-9b9f-666ccc6fa7bb",
   "metadata": {},
   "outputs": [],
   "source": [
    "def get_gitpath():\n",
    "    path = os.getcwd()\n",
    "    #path = os.path.normpath(path)\n",
    "    objs = path.split(os.sep)\n",
    "    dirname = objs[-1]\n",
    "    objs[-1] = dirname+'ForGit'\n",
    "    fullpath = os.path.join(*objs) # C:Users ...\n",
    "    gitpath = os.path.join('..', objs[-1])\n",
    "    if  not os.path.isdir(gitpath):\n",
    "        raise Exception('Does not exist ' + gitpath + '. Rename or create it! And do not forget paste .git there')\n",
    "    return gitpath"
   ]
  },
  {
   "cell_type": "markdown",
   "id": "fc3ea631-6a78-496b-876f-db519fdb11fc",
   "metadata": {},
   "source": [
    "### get all .md files"
   ]
  },
  {
   "cell_type": "code",
   "execution_count": 5,
   "id": "6f361f66-c506-4286-b975-a227dfaeaa81",
   "metadata": {},
   "outputs": [
    {
     "name": "stdout",
     "output_type": "stream",
     "text": [
      "{'Python в data science': ['Pandas.md', 'scikit-learn.md', 'Графики.md'], 'Мат.Статистика': ['Дисперсионный анализ несвязных выборок.md', 'Корреляция.md', 'Логистическая регрессия.md', 'Основы.md', 'Регрессия и регрессионный анализ.md', 'Сравнение двух несвязных выборок.md', 'Сравнение двух связных выборок.md', 'Хи-квадрат Пирсона.md'], 'Машинное обучение': ['Ансамблирование.md', 'Деревья решений.md', 'Кластеризация.md', 'Метод Ближайших соседей.md', 'Уменьшение размерности.md'], 'Язык R': ['ANOVA.md', 'Графики.md', 'Регрессионный анализ.md', 'Типы данных.md', 'Функции R.md', 'Хитрости языка.md']}\n"
     ]
    }
   ],
   "source": [
    "dirs = os.listdir()\n",
    "dirs = list(filter(lambda x: not x.startswith('.') and os.path.isdir(x), dirs))\n",
    "files = {dir : [] for dir in dirs}\n",
    "for dir in dirs:\n",
    "    mds = list(filter(lambda x: x.endswith('.md'), os.listdir(dir)))\n",
    "    files[dir] = files[dir] + mds\n",
    "print(files)"
   ]
  },
  {
   "cell_type": "markdown",
   "id": "c43a7c8d-e667-4b7c-8220-a56c19ff5875",
   "metadata": {},
   "source": [
    "### Fix carriages to view in git properly"
   ]
  },
  {
   "cell_type": "code",
   "execution_count": 6,
   "id": "e8026a13-6fd2-429b-921a-fcfbc23d1a9c",
   "metadata": {},
   "outputs": [
    {
     "name": "stdout",
     "output_type": "stream",
     "text": [
      "done\n"
     ]
    }
   ],
   "source": [
    "for dir in files:\n",
    "    for file in files[dir]:\n",
    "        replace_carriages(file, dir)\n",
    "print('done')"
   ]
  },
  {
   "cell_type": "markdown",
   "id": "ea7a3e87-1ad6-4ebb-b0a8-bdd136d83e20",
   "metadata": {},
   "source": [
    "### Create new path near current directory to push it to github. It will be fixed images to view them in github in web"
   ]
  },
  {
   "cell_type": "code",
   "execution_count": 7,
   "id": "dad66bfd-c9d8-480f-af87-ab864879aa55",
   "metadata": {},
   "outputs": [
    {
     "name": "stdout",
     "output_type": "stream",
     "text": [
      "done\n"
     ]
    }
   ],
   "source": [
    "for dir in files:\n",
    "    for file in files[dir]:\n",
    "        move_fixed_files(file, dir, get_gitpath())\n",
    "print('done')"
   ]
  },
  {
   "cell_type": "markdown",
   "id": "862ac51b-a730-4246-b5e2-ccb48645b30f",
   "metadata": {},
   "source": [
    "### In order to push in git i have to be sure images are in their directories"
   ]
  },
  {
   "cell_type": "code",
   "execution_count": 8,
   "id": "279737ec-640b-4cac-9a42-0bb57bb179e7",
   "metadata": {},
   "outputs": [
    {
     "name": "stdout",
     "output_type": "stream",
     "text": [
      "done\n"
     ]
    }
   ],
   "source": [
    "for dir in files:\n",
    "    if os.path.exists(os.path.join(dir, 'attachments')):\n",
    "        distutils.dir_util.copy_tree(os.path.join(dir, 'attachments'), os.path.join(get_gitpath(), dir, 'attachments'))\n",
    "print('done')"
   ]
  },
  {
   "cell_type": "markdown",
   "id": "9ca61d58-2df9-4914-a5fd-500756e6151c",
   "metadata": {},
   "source": [
    "### I have to send new version of this script"
   ]
  },
  {
   "cell_type": "code",
   "execution_count": 9,
   "id": "55a31fed-1f42-43ef-8847-631ceb1978e1",
   "metadata": {},
   "outputs": [],
   "source": [
    "fixer_name = 'fix_md_to_git.ipynb'\n",
    "fixer = open(fixer_name, 'r', encoding='utf-8')\n",
    "update_fixer = open(os.path.join(get_gitpath(), fixer_name), 'w', encoding='utf-8')\n",
    "update_fixer.write(fixer.read())\n",
    "update_fixer.close()\n",
    "fixer.close()"
   ]
  }
 ],
 "metadata": {
  "kernelspec": {
   "display_name": "Python 3 (ipykernel)",
   "language": "python",
   "name": "python3"
  },
  "language_info": {
   "codemirror_mode": {
    "name": "ipython",
    "version": 3
   },
   "file_extension": ".py",
   "mimetype": "text/x-python",
   "name": "python",
   "nbconvert_exporter": "python",
   "pygments_lexer": "ipython3",
   "version": "3.11.0"
  }
 },
 "nbformat": 4,
 "nbformat_minor": 5
}
